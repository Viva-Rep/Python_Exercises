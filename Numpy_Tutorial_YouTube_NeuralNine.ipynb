{
 "cells": [
  {
   "cell_type": "code",
   "execution_count": 1,
   "id": "70504db1-567c-4340-b1bd-a08dfaafe2ef",
   "metadata": {},
   "outputs": [],
   "source": [
    "import numpy as np"
   ]
  },
  {
   "cell_type": "markdown",
   "id": "3a846f93-c88d-4962-aff7-87deaac27487",
   "metadata": {},
   "source": [
    "##### Basics of numpy arrays are similar to ordinary python list"
   ]
  },
  {
   "cell_type": "code",
   "execution_count": 4,
   "id": "ed3eff6f-d3d6-4454-b443-9354646e4596",
   "metadata": {},
   "outputs": [
    {
     "name": "stdout",
     "output_type": "stream",
     "text": [
      "[1, 2, 3, 4, 5]\n",
      "<class 'list'>\n",
      "2\n",
      "[2, 3, 4]\n",
      "5\n"
     ]
    }
   ],
   "source": [
    "# ordinary python list definition and operations\n",
    "a = [1, 2, 3, 4, 5]\n",
    "print(a) # prints the list\n",
    "print(type(a)) # prints the type i.e., list\n",
    "print(a[1]) # prints the value at index 1\n",
    "print(a[1:4])# prints the values from index 1 to 3\n",
    "print(a[-1]) # prints the value at the last position"
   ]
  },
  {
   "cell_type": "markdown",
   "id": "b8f00f64-1ea1-48c0-adcb-ea39f45b856f",
   "metadata": {},
   "source": [
    "##### Numpy arrays can be defined similarly. But, they work differently behind the scenes\n",
    "##### They are written in C and optimized for linear algebra"
   ]
  },
  {
   "cell_type": "code",
   "execution_count": 7,
   "id": "017ba217-2227-4fd5-ae02-8aaaf9908521",
   "metadata": {},
   "outputs": [
    {
     "name": "stdout",
     "output_type": "stream",
     "text": [
      "[1 2 3 4 5]\n",
      "<class 'numpy.ndarray'>\n",
      "2\n",
      "[2 3 4]\n",
      "5\n"
     ]
    }
   ],
   "source": [
    "a = np.array([1, 2, 3, 4, 5])\n",
    "print(a) #unlike ordinary python lists, this will be printed separated by spaces\n",
    "print(type(a)) # prints the type i.e., numpy.ndarray\n",
    "print(a[1]) # prints the value at index 1\n",
    "print(a[1:4])# prints the values from index 1 to 3\n",
    "print(a[-1]) # prints the value at the last position"
   ]
  },
  {
   "cell_type": "code",
   "execution_count": 9,
   "id": "6ffb98b3-ca1f-4ef5-8e80-089e2ecc7fe4",
   "metadata": {},
   "outputs": [
    {
     "name": "stdout",
     "output_type": "stream",
     "text": [
      "[ 1  2 10  4  5]\n"
     ]
    }
   ],
   "source": [
    "a[2] = 10 # can use assignment with numpy arrays\n",
    "print(a)"
   ]
  },
  {
   "cell_type": "code",
   "execution_count": 11,
   "id": "b49e6065-2365-4425-8a51-f20c06603e46",
   "metadata": {},
   "outputs": [
    {
     "name": "stdout",
     "output_type": "stream",
     "text": [
      "[[1 2 3]\n",
      " [4 5 6]\n",
      " [7 8 8]]\n",
      "[1 2 3]\n",
      "2\n"
     ]
    }
   ],
   "source": [
    "# multi dimensional numpy array\n",
    "a_mul = np.array([[1, 2, 3],\n",
    "                  [4, 5, 6],\n",
    "                  [7, 8, 8]])\n",
    "print(a_mul)\n",
    "print(a_mul[0])\n",
    "print(a_mul[0, 1])"
   ]
  },
  {
   "cell_type": "code",
   "execution_count": 13,
   "id": "5c41c2fa-6086-4e7a-8d7c-30e04b5e059b",
   "metadata": {},
   "outputs": [
    {
     "name": "stdout",
     "output_type": "stream",
     "text": [
      "(3, 3)\n"
     ]
    }
   ],
   "source": [
    "# find the shape (dimension) of the array\n",
    "print(a_mul.shape)"
   ]
  },
  {
   "cell_type": "code",
   "execution_count": 15,
   "id": "0e4b5b88-87a7-47e2-ade2-56e4d84ed3b9",
   "metadata": {},
   "outputs": [
    {
     "name": "stdout",
     "output_type": "stream",
     "text": [
      "(2, 3, 4)\n"
     ]
    }
   ],
   "source": [
    "# it can have multiple lists within the array\n",
    "# below we have 2 lists with 3 lists each with 4 elements\n",
    "a_mul = np.array([[[1, 2, 3, 1],\n",
    "                   [4, 5, 6, 1],\n",
    "                   [7, 8, 8, 1]],\n",
    "                  [[1, 2, 4, 2],\n",
    "                   [2, 5, 6, 1],\n",
    "                   [6, 3, 8, 9]]])\n",
    "print(a_mul.shape)"
   ]
  },
  {
   "cell_type": "code",
   "execution_count": 17,
   "id": "1f32cf12-ed6e-4484-899e-2354908919f2",
   "metadata": {},
   "outputs": [
    {
     "data": {
      "text/plain": [
       "3"
      ]
     },
     "execution_count": 17,
     "metadata": {},
     "output_type": "execute_result"
    }
   ],
   "source": [
    "a_mul.ndim # this gives the depth of the array. a_mul here is of 3 levels "
   ]
  },
  {
   "cell_type": "code",
   "execution_count": 19,
   "id": "a5684a33-fa55-4d0c-81e8-b7b88ea16d9b",
   "metadata": {},
   "outputs": [
    {
     "data": {
      "text/plain": [
       "24"
      ]
     },
     "execution_count": 19,
     "metadata": {},
     "output_type": "execute_result"
    }
   ],
   "source": [
    "a_mul.size # this gives the amount of elements in the array"
   ]
  },
  {
   "cell_type": "code",
   "execution_count": 21,
   "id": "37c7db84-62a7-44d8-8fb3-682e660b0378",
   "metadata": {},
   "outputs": [
    {
     "data": {
      "text/plain": [
       "dtype('int32')"
      ]
     },
     "execution_count": 21,
     "metadata": {},
     "output_type": "execute_result"
    }
   ],
   "source": [
    "a_mul.dtype # gives the data type of the elements"
   ]
  },
  {
   "cell_type": "code",
   "execution_count": 23,
   "id": "fb73f25b-5f5a-41a8-9274-6e963fd2a068",
   "metadata": {},
   "outputs": [
    {
     "name": "stdout",
     "output_type": "stream",
     "text": [
      "<U11\n",
      "1\n",
      "<U1\n"
     ]
    }
   ],
   "source": [
    "a = np.array([[1, 2, 3],\n",
    "             [4, \"Hello\", 6],\n",
    "             [7, 8, 9]])\n",
    "print(a.dtype) # the whole data type would be changed due to a string in between\n",
    "print(a[0][0])\n",
    "print(a[0][0].dtype) # the value is an integer, but data type would be string\n",
    "# that is due to one string value in the array\n",
    "# <U11  = string type with less than or equal 11 characters\n",
    "# <U1 = string type with 1 character"
   ]
  },
  {
   "cell_type": "code",
   "execution_count": 25,
   "id": "bfbcc214-5ea6-4865-a3be-611821806e96",
   "metadata": {},
   "outputs": [
    {
     "ename": "ValueError",
     "evalue": "invalid literal for int() with base 10: 'Hello'",
     "output_type": "error",
     "traceback": [
      "\u001b[1;31m---------------------------------------------------------------------------\u001b[0m",
      "\u001b[1;31mValueError\u001b[0m                                Traceback (most recent call last)",
      "Cell \u001b[1;32mIn[25], line 1\u001b[0m\n\u001b[1;32m----> 1\u001b[0m a \u001b[38;5;241m=\u001b[39m np\u001b[38;5;241m.\u001b[39marray([[\u001b[38;5;241m1\u001b[39m, \u001b[38;5;241m2\u001b[39m, \u001b[38;5;241m3\u001b[39m],\n\u001b[0;32m      2\u001b[0m               [\u001b[38;5;241m4\u001b[39m, \u001b[38;5;124m\"\u001b[39m\u001b[38;5;124mHello\u001b[39m\u001b[38;5;124m\"\u001b[39m, \u001b[38;5;241m6\u001b[39m],\n\u001b[0;32m      3\u001b[0m               [\u001b[38;5;241m7\u001b[39m, \u001b[38;5;241m8\u001b[39m, \u001b[38;5;241m8\u001b[39m]], dtype \u001b[38;5;241m=\u001b[39m np\u001b[38;5;241m.\u001b[39mint32)\n\u001b[0;32m      5\u001b[0m \u001b[38;5;28mprint\u001b[39m(a\u001b[38;5;241m.\u001b[39mdtype)\n",
      "\u001b[1;31mValueError\u001b[0m: invalid literal for int() with base 10: 'Hello'"
     ]
    }
   ],
   "source": [
    "a = np.array([[1, 2, 3],\n",
    "              [4, \"Hello\", 6],\n",
    "              [7, 8, 8]], dtype = np.int32)\n",
    "\n",
    "print(a.dtype)\n",
    "# We will encounter an error as we cannot typecast a string to an integer\n",
    "# the other way is possible that is to typecase an integer to a string"
   ]
  },
  {
   "cell_type": "code",
   "execution_count": 27,
   "id": "7f048e4f-3356-44d7-9dd8-de0bab7eb3db",
   "metadata": {},
   "outputs": [
    {
     "name": "stdout",
     "output_type": "stream",
     "text": [
      "int32\n"
     ]
    }
   ],
   "source": [
    "a = np.array([[1, 2, 3],\n",
    "              [4, \"5\", 6],\n",
    "              [7, 8, 8]], dtype = np.int32)\n",
    "\n",
    "print(a.dtype) # if we dont typecast it, it would be a string\n",
    "# otherwise, it would be an integer"
   ]
  },
  {
   "cell_type": "code",
   "execution_count": 29,
   "id": "d6f0dc94-f2f4-43c0-a5d5-a988b2755da8",
   "metadata": {},
   "outputs": [
    {
     "name": "stdout",
     "output_type": "stream",
     "text": [
      "<U11\n"
     ]
    }
   ],
   "source": [
    "a = np.array([[1, 2, 3],\n",
    "              [4, \"5\", 6],\n",
    "              [7, 8, 8]])\n",
    "\n",
    "print(a.dtype) # if we dont typecast it, it would be a string\n",
    "# otherwise, it would be an integer"
   ]
  },
  {
   "cell_type": "code",
   "execution_count": 31,
   "id": "1a43d43d-d76c-4513-b24a-adee52d9fb26",
   "metadata": {},
   "outputs": [
    {
     "name": "stdout",
     "output_type": "stream",
     "text": [
      "float32\n",
      "float32\n",
      "5.0\n"
     ]
    }
   ],
   "source": [
    "a = np.array([[1, 2, 3],\n",
    "              [4, \"5\", 6],\n",
    "              [7, 8, 8]], dtype = np.float32)\n",
    "\n",
    "print(a.dtype)\n",
    "print(a[1][1].dtype)\n",
    "print(a[1][1])\n"
   ]
  },
  {
   "cell_type": "code",
   "execution_count": 33,
   "id": "51a6de3c-4ab2-48a8-ac08-148b13983b80",
   "metadata": {},
   "outputs": [
    {
     "name": "stdout",
     "output_type": "stream",
     "text": [
      "object\n",
      "{'1': 'A'}\n"
     ]
    }
   ],
   "source": [
    "# whenever, we define the array with an object that cannot be typecasted\n",
    "# the entire array datatype converts to that object\n",
    "d = {'1' : 'A'}\n",
    "\n",
    "a = np.array([[1, 2, 3],\n",
    "              [4, d, 6],\n",
    "              [7, 8, \"Hello\"]])\n",
    "\n",
    "print(a.dtype)\n",
    "print(a[1][1])"
   ]
  },
  {
   "cell_type": "code",
   "execution_count": 35,
   "id": "995442f2-1b33-4e9a-9e4e-8eb52897910e",
   "metadata": {},
   "outputs": [
    {
     "name": "stdout",
     "output_type": "stream",
     "text": [
      "<U2\n"
     ]
    }
   ],
   "source": [
    "a = np.array([[1, 2, 3],\n",
    "              [4, 5, 6],\n",
    "              [7, 8, 9]], dtype = '<U2')\n",
    "\n",
    "print(a.dtype) # we can force typecast"
   ]
  },
  {
   "cell_type": "code",
   "execution_count": 37,
   "id": "5341960f-1b36-41b2-a2d6-dddf477c297b",
   "metadata": {},
   "outputs": [
    {
     "name": "stdout",
     "output_type": "stream",
     "text": [
      "[[[9 9 9 9]\n",
      "  [9 9 9 9]\n",
      "  [9 9 9 9]]\n",
      "\n",
      " [[9 9 9 9]\n",
      "  [9 9 9 9]\n",
      "  [9 9 9 9]]]\n"
     ]
    }
   ],
   "source": [
    "# to fill the array with the same value, we have couple of options in numpy\n",
    "a = np.full((2, 3, 4), 9)\n",
    "# first element is the shape of  array and then the value that we want to fill\n",
    "print(a)"
   ]
  },
  {
   "cell_type": "code",
   "execution_count": 39,
   "id": "f3f22849-1d6c-4330-b53d-81c39d605f28",
   "metadata": {},
   "outputs": [
    {
     "name": "stdout",
     "output_type": "stream",
     "text": [
      "[[[0. 0.]\n",
      "  [0. 0.]\n",
      "  [0. 0.]]\n",
      "\n",
      " [[0. 0.]\n",
      "  [0. 0.]\n",
      "  [0. 0.]]]\n"
     ]
    }
   ],
   "source": [
    "a = np.zeros((2, 3, 2)) # to have the array full of zeros\n",
    "print(a)"
   ]
  },
  {
   "cell_type": "code",
   "execution_count": 41,
   "id": "ff870bf0-d5a0-47e8-a7d2-62b0bdc86ac7",
   "metadata": {},
   "outputs": [
    {
     "name": "stdout",
     "output_type": "stream",
     "text": [
      "[[[1. 1.]\n",
      "  [1. 1.]\n",
      "  [1. 1.]]\n",
      "\n",
      " [[1. 1.]\n",
      "  [1. 1.]\n",
      "  [1. 1.]]]\n"
     ]
    }
   ],
   "source": [
    "a = np.ones((2, 3, 2)) # to have the array full of ones\n",
    "print(a)"
   ]
  },
  {
   "cell_type": "code",
   "execution_count": 43,
   "id": "a4cca627-a03a-457c-950b-5e3f80100c17",
   "metadata": {},
   "outputs": [
    {
     "name": "stdout",
     "output_type": "stream",
     "text": [
      "[[[1. 1.]\n",
      "  [1. 1.]\n",
      "  [1. 1.]]\n",
      "\n",
      " [[1. 1.]\n",
      "  [1. 1.]\n",
      "  [1. 1.]]]\n"
     ]
    }
   ],
   "source": [
    "b = np.empty((2, 3, 2)) # this reseves the memory without values\n",
    "print(b)"
   ]
  },
  {
   "cell_type": "code",
   "execution_count": 45,
   "id": "63e756f8-7031-4c17-b22f-edbe8586c351",
   "metadata": {},
   "outputs": [
    {
     "name": "stdout",
     "output_type": "stream",
     "text": [
      "[  0   5  10  15  20  25  30  35  40  45  50  55  60  65  70  75  80  85\n",
      "  90  95 100 105 110 115 120 125 130 135 140 145 150 155 160 165 170 175\n",
      " 180 185 190 195 200 205 210 215 220 225 230 235 240 245 250 255 260 265\n",
      " 270 275 280 285 290 295 300 305 310 315 320 325 330 335 340 345 350 355\n",
      " 360 365 370 375 380 385 390 395 400 405 410 415 420 425 430 435 440 445\n",
      " 450 455 460 465 470 475 480 485 490 495 500 505 510 515 520 525 530 535\n",
      " 540 545 550 555 560 565 570 575 580 585 590 595 600 605 610 615 620 625\n",
      " 630 635 640 645 650 655 660 665 670 675 680 685 690 695 700 705 710 715\n",
      " 720 725 730 735 740 745 750 755 760 765 770 775 780 785 790 795 800 805\n",
      " 810 815 820 825 830 835 840 845 850 855 860 865 870 875 880 885 890 895\n",
      " 900 905 910 915 920 925 930 935 940 945 950 955 960 965 970 975 980 985\n",
      " 990 995]\n"
     ]
    }
   ],
   "source": [
    "# to generate a range\n",
    "# args include beginning value, end value, and step size\n",
    "x_values = np.arange(0, 1000, 5)\n",
    "print(x_values)"
   ]
  },
  {
   "cell_type": "code",
   "execution_count": 47,
   "id": "cde6a27d-0042-47db-a31a-171bb3b43f13",
   "metadata": {},
   "outputs": [
    {
     "data": {
      "text/plain": [
       "(200,)"
      ]
     },
     "execution_count": 47,
     "metadata": {},
     "output_type": "execute_result"
    }
   ],
   "source": [
    "x_values.shape"
   ]
  },
  {
   "cell_type": "code",
   "execution_count": 49,
   "id": "abac3ca5-d0d2-4836-866a-4027906f9b47",
   "metadata": {},
   "outputs": [
    {
     "name": "stdout",
     "output_type": "stream",
     "text": [
      "[   0.   10.   20.   30.   40.   50.   60.   70.   80.   90.  100.  110.\n",
      "  120.  130.  140.  150.  160.  170.  180.  190.  200.  210.  220.  230.\n",
      "  240.  250.  260.  270.  280.  290.  300.  310.  320.  330.  340.  350.\n",
      "  360.  370.  380.  390.  400.  410.  420.  430.  440.  450.  460.  470.\n",
      "  480.  490.  500.  510.  520.  530.  540.  550.  560.  570.  580.  590.\n",
      "  600.  610.  620.  630.  640.  650.  660.  670.  680.  690.  700.  710.\n",
      "  720.  730.  740.  750.  760.  770.  780.  790.  800.  810.  820.  830.\n",
      "  840.  850.  860.  870.  880.  890.  900.  910.  920.  930.  940.  950.\n",
      "  960.  970.  980.  990. 1000.]\n"
     ]
    }
   ],
   "source": [
    "# there is linspace which helps us in specifying the number of values needed in the range instead of the step size\n",
    "x_values = np.linspace(0, 1000, 101)\n",
    "print(x_values)"
   ]
  },
  {
   "cell_type": "code",
   "execution_count": 51,
   "id": "3fd631ab-366b-4405-b40f-72b91efd5fd3",
   "metadata": {},
   "outputs": [
    {
     "name": "stdout",
     "output_type": "stream",
     "text": [
      "nan\n",
      "inf\n",
      "True\n",
      "True\n",
      "nan\n",
      "[inf]\n"
     ]
    },
    {
     "name": "stderr",
     "output_type": "stream",
     "text": [
      "C:\\Users\\chand\\AppData\\Local\\Temp\\ipykernel_14432\\1818295187.py:7: RuntimeWarning: invalid value encountered in sqrt\n",
      "  print(np.sqrt(-1)) # throws a warning, but returns nan as an answer\n",
      "C:\\Users\\chand\\AppData\\Local\\Temp\\ipykernel_14432\\1818295187.py:8: RuntimeWarning: divide by zero encountered in divide\n",
      "  print(np.array([10])/0) # throws a warning, but returns inf as an answer\n"
     ]
    }
   ],
   "source": [
    "# NaN stands for not a number\n",
    "# inf stands for infinity\n",
    "print(np.NaN)\n",
    "print(np.inf)\n",
    "print(np.isnan(np.NaN))\n",
    "print(np.isinf(np.inf))\n",
    "print(np.sqrt(-1)) # throws a warning, but returns nan as an answer\n",
    "print(np.array([10])/0) # throws a warning, but returns inf as an answer"
   ]
  },
  {
   "cell_type": "code",
   "execution_count": 53,
   "id": "215d6e84-2b36-41f7-a4cf-f2c5c8bce6f6",
   "metadata": {},
   "outputs": [
    {
     "name": "stdout",
     "output_type": "stream",
     "text": [
      "[1, 2, 3, 4, 5, 1, 2, 3, 4, 5, 1, 2, 3, 4, 5, 1, 2, 3, 4, 5, 1, 2, 3, 4, 5]\n",
      "[ 5 10 15 20 25]\n"
     ]
    }
   ],
   "source": [
    "# define regular python lists\n",
    "l1 = [1, 2, 3, 4, 5]\n",
    "l2 = [5, 6, 7, 8, 9]\n",
    "\n",
    "# define numpy arrays\n",
    "a1 = np.array(l1)\n",
    "a2 = np.array(l2)\n",
    "\n",
    "print(l1 * 5) # same list would be repeated 5 times\n",
    "print(a1 * 5) # all the elements of the list would be multiplied by 5"
   ]
  },
  {
   "cell_type": "code",
   "execution_count": 55,
   "id": "31de6a92-6e4f-4f02-9961-824c310b8e69",
   "metadata": {},
   "outputs": [
    {
     "ename": "TypeError",
     "evalue": "can only concatenate list (not \"int\") to list",
     "output_type": "error",
     "traceback": [
      "\u001b[1;31m---------------------------------------------------------------------------\u001b[0m",
      "\u001b[1;31mTypeError\u001b[0m                                 Traceback (most recent call last)",
      "Cell \u001b[1;32mIn[55], line 1\u001b[0m\n\u001b[1;32m----> 1\u001b[0m \u001b[38;5;28mprint\u001b[39m(l1 \u001b[38;5;241m+\u001b[39m \u001b[38;5;241m5\u001b[39m)\n",
      "\u001b[1;31mTypeError\u001b[0m: can only concatenate list (not \"int\") to list"
     ]
    }
   ],
   "source": [
    "print(l1 + 5) # this would result an error"
   ]
  },
  {
   "cell_type": "code",
   "execution_count": 57,
   "id": "34188ceb-d0bb-48e3-847d-5cd249e9ae53",
   "metadata": {},
   "outputs": [
    {
     "name": "stdout",
     "output_type": "stream",
     "text": [
      "[ 6  7  8  9 10]\n"
     ]
    }
   ],
   "source": [
    "print(a1 + 5) # each number of the array would be added with 5"
   ]
  },
  {
   "cell_type": "code",
   "execution_count": 59,
   "id": "745aec82-4acf-40b6-b2cb-a8a654ed868a",
   "metadata": {},
   "outputs": [
    {
     "name": "stdout",
     "output_type": "stream",
     "text": [
      "[1, 2, 3, 4, 5, 5, 6, 7, 8, 9]\n",
      "[ 6  8 10 12 14]\n"
     ]
    }
   ],
   "source": [
    "print(l1 + l2) # two lists would be concatenated into one\n",
    "print(a1 + a2) # each element of one array would be added to the corresponding element of the second array"
   ]
  },
  {
   "cell_type": "code",
   "execution_count": 61,
   "id": "a20adcac-00c1-4ecb-880e-fd34c9939e57",
   "metadata": {},
   "outputs": [],
   "source": [
    "# none of these operations are possible with python lists\n",
    "# print(l1 * l2)\n",
    "# print(l1 / l2)\n",
    "# print(l1 - l2)"
   ]
  },
  {
   "cell_type": "code",
   "execution_count": 63,
   "id": "49dfcfae-6906-4c8d-89ee-7d748244f9f6",
   "metadata": {},
   "outputs": [
    {
     "name": "stdout",
     "output_type": "stream",
     "text": [
      "[ 5 12 21 32 45]\n",
      "[0.2        0.33333333 0.42857143 0.5        0.55555556]\n",
      "[-4 -4 -4 -4 -4]\n"
     ]
    }
   ],
   "source": [
    "# performs all the arthematic operations element-wise\n",
    "print(a1 * a2)\n",
    "print(a1 / a2)\n",
    "print(a1 - a2)"
   ]
  },
  {
   "cell_type": "code",
   "execution_count": 65,
   "id": "7c5cde4f-f713-45ec-b52c-b295f0dc5dea",
   "metadata": {},
   "outputs": [
    {
     "name": "stdout",
     "output_type": "stream",
     "text": [
      "(3,)\n",
      "(2, 1)\n",
      "[[2 3 4]\n",
      " [3 4 5]]\n"
     ]
    }
   ],
   "source": [
    "b1 = np.array([1, 2, 3])\n",
    "b2 = np.array([[1],\n",
    "               [2]])\n",
    "\n",
    "print(b1.shape)\n",
    "print(b2.shape)\n",
    "print(b1 + b2)"
   ]
  },
  {
   "cell_type": "code",
   "execution_count": 67,
   "id": "d6da501e-e4b3-455b-8699-b9a46cee01d6",
   "metadata": {},
   "outputs": [
    {
     "name": "stdout",
     "output_type": "stream",
     "text": [
      "(3,)\n",
      "(2, 2)\n"
     ]
    },
    {
     "ename": "ValueError",
     "evalue": "operands could not be broadcast together with shapes (3,) (2,2) ",
     "output_type": "error",
     "traceback": [
      "\u001b[1;31m---------------------------------------------------------------------------\u001b[0m",
      "\u001b[1;31mValueError\u001b[0m                                Traceback (most recent call last)",
      "Cell \u001b[1;32mIn[67], line 7\u001b[0m\n\u001b[0;32m      5\u001b[0m \u001b[38;5;28mprint\u001b[39m(b1\u001b[38;5;241m.\u001b[39mshape)\n\u001b[0;32m      6\u001b[0m \u001b[38;5;28mprint\u001b[39m(b2\u001b[38;5;241m.\u001b[39mshape)\n\u001b[1;32m----> 7\u001b[0m \u001b[38;5;28mprint\u001b[39m(b1 \u001b[38;5;241m+\u001b[39m b2)\n",
      "\u001b[1;31mValueError\u001b[0m: operands could not be broadcast together with shapes (3,) (2,2) "
     ]
    }
   ],
   "source": [
    "b1 = np.array([1, 2, 3])\n",
    "b2 = np.array([[1, 1],\n",
    "               [2, 1]])\n",
    "\n",
    "print(b1.shape)\n",
    "print(b2.shape)\n",
    "print(b1 + b2)"
   ]
  },
  {
   "cell_type": "code",
   "execution_count": 69,
   "id": "b3bad9a6-6b14-46c7-af76-36ed16e6addd",
   "metadata": {},
   "outputs": [
    {
     "name": "stdout",
     "output_type": "stream",
     "text": [
      "[[2.64575131 1.41421356 1.73205081]\n",
      " [2.82842712 2.23606798 2.44948974]]\n"
     ]
    }
   ],
   "source": [
    "# numpy offers many mathematical functions\n",
    "# When we apply these functions onto an array, we basically apply these on each elemnet of the array\n",
    "a = np.array([[7, 2, 3],\n",
    "              [8, 5, 6]])\n",
    "\n",
    "print(np.sqrt(a))"
   ]
  },
  {
   "cell_type": "code",
   "execution_count": 71,
   "id": "36ab8f88-eae4-4e78-adfc-de2d370dc5da",
   "metadata": {},
   "outputs": [
    {
     "name": "stdout",
     "output_type": "stream",
     "text": [
      "[[0.84509804 0.30103    0.47712125]\n",
      " [0.90308999 0.69897    0.77815125]]\n"
     ]
    }
   ],
   "source": [
    "print(np.log10(a))"
   ]
  },
  {
   "cell_type": "code",
   "execution_count": 73,
   "id": "5fe4ba6a-4428-472d-8a53-0c31ea9fc6c3",
   "metadata": {},
   "outputs": [
    {
     "name": "stdout",
     "output_type": "stream",
     "text": [
      "[[ 0.6569866   0.90929743  0.14112001]\n",
      " [ 0.98935825 -0.95892427 -0.2794155 ]]\n"
     ]
    }
   ],
   "source": [
    "print(np.sin(a))"
   ]
  },
  {
   "cell_type": "code",
   "execution_count": 75,
   "id": "8fe3ca73-c917-4d13-9043-15e1d9b90cac",
   "metadata": {},
   "outputs": [
    {
     "name": "stdout",
     "output_type": "stream",
     "text": [
      "[[1096.63315843    7.3890561    20.08553692]\n",
      " [2980.95798704  148.4131591   403.42879349]]\n"
     ]
    }
   ],
   "source": [
    "print(np.exp(a))"
   ]
  },
  {
   "cell_type": "code",
   "execution_count": 77,
   "id": "41b54c44-ea29-4ff4-85bf-be7e6916d289",
   "metadata": {},
   "outputs": [
    {
     "name": "stdout",
     "output_type": "stream",
     "text": [
      "[1 2 3 7 8 9]\n",
      "[1 2 3]\n",
      "[1 2 3 7 8 9]\n"
     ]
    }
   ],
   "source": [
    "# we have a whole list of array methods - append, insert, delete operations\n",
    "a = np.array([1, 2, 3])\n",
    "\n",
    "print(np.append(a, [7, 8,9]))# this is not going to later the original array\n",
    "print(a)\n",
    "a = np.append(a, [7, 8, 9]) # this alters the original array\n",
    "print(a)"
   ]
  },
  {
   "cell_type": "code",
   "execution_count": 79,
   "id": "bd3b16b2-df0d-45d8-9210-d7fd59ca95fb",
   "metadata": {},
   "outputs": [
    {
     "name": "stdout",
     "output_type": "stream",
     "text": [
      "[1 2 3 4 5 6 7 8 9]\n"
     ]
    }
   ],
   "source": [
    "a = np.insert(a, 3, [4, 5, 6])\n",
    "# 3 is the position at which we want to insert\n",
    "print(a)"
   ]
  },
  {
   "cell_type": "code",
   "execution_count": 81,
   "id": "f0f05cbe-c9ca-40c0-9fbc-200a59a7efdc",
   "metadata": {},
   "outputs": [
    {
     "name": "stdout",
     "output_type": "stream",
     "text": [
      "[1 3 4 5 6]\n",
      "[2 3 4 5 6]\n",
      "[1 2 3 4 6]\n"
     ]
    }
   ],
   "source": [
    "a = np.array([[1, 2, 3],\n",
    "              [4, 5, 6]])\n",
    "\n",
    "# to delete, specify the array, index, and axis. If axis not specified, only the element at that index would be deleted\n",
    "print(np.delete(a, 1))\n",
    "print(np.delete(a, 0))\n",
    "print(np.delete(a, 4))\n"
   ]
  },
  {
   "cell_type": "code",
   "execution_count": 83,
   "id": "a61c7219-1915-448c-8621-329ce8f758d0",
   "metadata": {},
   "outputs": [
    {
     "name": "stdout",
     "output_type": "stream",
     "text": [
      "[[1 2 3]]\n",
      "[[1 3]\n",
      " [4 6]]\n"
     ]
    }
   ],
   "source": [
    "a = np.array([[1, 2, 3],\n",
    "              [4, 5, 6]])\n",
    "\n",
    "# axis 0 represents row; \n",
    "print(np.delete(a, 1, 0))\n",
    "\n",
    "# axis 0 represents column; \n",
    "print(np.delete(a, 1, 1))"
   ]
  },
  {
   "cell_type": "code",
   "execution_count": 85,
   "id": "a9b060e8-9844-4605-9bc0-4a72f00abec9",
   "metadata": {},
   "outputs": [
    {
     "name": "stdout",
     "output_type": "stream",
     "text": [
      "(4, 5)\n",
      "[[ 1  2  3  4]\n",
      " [ 5  6  7  8]\n",
      " [ 9 10 11 12]\n",
      " [13 14 15 16]\n",
      " [17 18 19 20]]\n"
     ]
    }
   ],
   "source": [
    "# We have a list of structural methods\n",
    "a = np.array([[1, 2, 3, 4, 5],\n",
    "             [6, 7, 8, 9, 10],\n",
    "             [11, 12, 13, 14, 15],\n",
    "             [16, 17, 18, 19, 20]])\n",
    "\n",
    "print(a.shape)\n",
    "print(a.reshape((5, 4))) # this would only change the shape but not order"
   ]
  },
  {
   "cell_type": "code",
   "execution_count": 87,
   "id": "ffd0328a-9d15-4444-bdb6-429a8ea66b9e",
   "metadata": {},
   "outputs": [
    {
     "name": "stdout",
     "output_type": "stream",
     "text": [
      "[ 1  2  3  4  5  6  7  8  9 10 11 12 13 14 15 16 17 18 19 20]\n",
      "[[ 1]\n",
      " [ 2]\n",
      " [ 3]\n",
      " [ 4]\n",
      " [ 5]\n",
      " [ 6]\n",
      " [ 7]\n",
      " [ 8]\n",
      " [ 9]\n",
      " [10]\n",
      " [11]\n",
      " [12]\n",
      " [13]\n",
      " [14]\n",
      " [15]\n",
      " [16]\n",
      " [17]\n",
      " [18]\n",
      " [19]\n",
      " [20]]\n"
     ]
    }
   ],
   "source": [
    "# this results in one list with 20 elements in it\n",
    "print(a.reshape((20,)))\n",
    "# this results in a array with 20 rows and 1 column\n",
    "print(a.reshape((20, 1)))"
   ]
  },
  {
   "cell_type": "code",
   "execution_count": 89,
   "id": "d98dfe9e-eafb-466a-9de2-e52aad9da762",
   "metadata": {},
   "outputs": [
    {
     "name": "stdout",
     "output_type": "stream",
     "text": [
      "[[[ 1  2  3  4  5]\n",
      "  [ 6  7  8  9 10]]\n",
      "\n",
      " [[11 12 13 14 15]\n",
      "  [16 17 18 19 20]]]\n",
      "[[[ 1  2]\n",
      "  [ 3  4]\n",
      "  [ 5  6]\n",
      "  [ 7  8]\n",
      "  [ 9 10]]\n",
      "\n",
      " [[11 12]\n",
      "  [13 14]\n",
      "  [15 16]\n",
      "  [17 18]\n",
      "  [19 20]]]\n",
      "[[[ 1  2]\n",
      "  [ 3  4]]\n",
      "\n",
      " [[ 5  6]\n",
      "  [ 7  8]]\n",
      "\n",
      " [[ 9 10]\n",
      "  [11 12]]\n",
      "\n",
      " [[13 14]\n",
      "  [15 16]]\n",
      "\n",
      " [[17 18]\n",
      "  [19 20]]]\n"
     ]
    }
   ],
   "source": [
    "print(a.reshape((2, 2, 5))) # 2 cllections with 2 lists each with 5 elements each\n",
    "print(a.reshape((2, 5, 2)))\n",
    "print(a.reshape((5, 2, 2)))"
   ]
  },
  {
   "cell_type": "code",
   "execution_count": 91,
   "id": "ee817920-3ab1-4648-aeb2-09d3692b0c78",
   "metadata": {},
   "outputs": [
    {
     "name": "stdout",
     "output_type": "stream",
     "text": [
      "[[ 1  2]\n",
      " [ 3  4]\n",
      " [ 5  6]\n",
      " [ 7  8]\n",
      " [ 9 10]\n",
      " [11 12]\n",
      " [13 14]\n",
      " [15 16]\n",
      " [17 18]\n",
      " [19 20]]\n",
      "[[ 1  2  3  4  5]\n",
      " [ 6  7  8  9 10]\n",
      " [11 12 13 14 15]\n",
      " [16 17 18 19 20]]\n"
     ]
    }
   ],
   "source": [
    "# reshaping doesnt alter the array until we assign the operation\n",
    "print(a.reshape((10, 2)))\n",
    "print(a)"
   ]
  },
  {
   "cell_type": "code",
   "execution_count": 93,
   "id": "a82ae293-fc27-44e2-aeeb-27d1ca57b6dd",
   "metadata": {},
   "outputs": [
    {
     "name": "stdout",
     "output_type": "stream",
     "text": [
      "[[ 1  2]\n",
      " [ 3  4]\n",
      " [ 5  6]\n",
      " [ 7  8]\n",
      " [ 9 10]\n",
      " [11 12]\n",
      " [13 14]\n",
      " [15 16]\n",
      " [17 18]\n",
      " [19 20]]\n"
     ]
    }
   ],
   "source": [
    "# however, resize alters the array without assignment\n",
    "a.resize(10, 2)\n",
    "print(a)"
   ]
  },
  {
   "cell_type": "code",
   "execution_count": 95,
   "id": "f752efdc-c3e7-417d-8a4f-9f5f12fdcd00",
   "metadata": {},
   "outputs": [
    {
     "name": "stdout",
     "output_type": "stream",
     "text": [
      "[ 1  2  3  4  5  6  7  8  9 10 11 12 13 14 15 16 17 18 19 20]\n"
     ]
    }
   ],
   "source": [
    "# we can flatten an array to get a one dimensional view\n",
    "a = np.array([[1, 2, 3, 4, 5],\n",
    "             [6, 7, 8, 9, 10],\n",
    "             [11, 12, 13, 14, 15],\n",
    "             [16, 17, 18, 19, 20]])\n",
    "print(a.flatten())"
   ]
  },
  {
   "cell_type": "code",
   "execution_count": 97,
   "id": "f59ebbd3-4129-4c54-b6cd-40ec413682bc",
   "metadata": {},
   "outputs": [
    {
     "name": "stdout",
     "output_type": "stream",
     "text": [
      "[  1   2 100   4   5   6   7   8   9  10  11  12  13  14  15  16  17  18\n",
      "  19  20]\n",
      "[[ 1  2  3  4  5]\n",
      " [ 6  7  8  9 10]\n",
      " [11 12 13 14 15]\n",
      " [16 17 18 19 20]]\n"
     ]
    }
   ],
   "source": [
    "var1 = a.flatten()\n",
    "var1[2] = 100 # this assignment wont change the original array\n",
    "print(var1)\n",
    "print(a)"
   ]
  },
  {
   "cell_type": "code",
   "execution_count": 99,
   "id": "df0a5eba-f99f-44d0-8c38-b2a9ad4bd81d",
   "metadata": {},
   "outputs": [
    {
     "name": "stdout",
     "output_type": "stream",
     "text": [
      "[  1   2 100   4   5   6   7   8   9  10  11  12  13  14  15  16  17  18\n",
      "  19  20]\n",
      "[[  1   2 100   4   5]\n",
      " [  6   7   8   9  10]\n",
      " [ 11  12  13  14  15]\n",
      " [ 16  17  18  19  20]]\n"
     ]
    }
   ],
   "source": [
    "# ravel is similar to flatten\n",
    "# flattenr retuerns a flatten copy\n",
    "# whereas, ravel returns as flatten view\n",
    "var1 = a.ravel() \n",
    "var1[2] = 100 # this assignment changes the original array\n",
    "print(var1)\n",
    "print(a)"
   ]
  },
  {
   "cell_type": "code",
   "execution_count": 101,
   "id": "21156a37-08b9-4507-8174-c9fe8d64716e",
   "metadata": {},
   "outputs": [
    {
     "name": "stdout",
     "output_type": "stream",
     "text": [
      "[1, 2, 3, 4, 5, 6, 7, 8, 9, 10, 11, 12, 13, 14, 15, 16, 17, 18, 19, 20]\n"
     ]
    }
   ],
   "source": [
    "a = np.array([[1, 2, 3, 4, 5],\n",
    "             [6, 7, 8, 9, 10],\n",
    "             [11, 12, 13, 14, 15],\n",
    "             [16, 17, 18, 19, 20]])\n",
    "\n",
    "var = [v for v in a.flat] # flat attribute\n",
    "print(var)"
   ]
  },
  {
   "cell_type": "code",
   "execution_count": 103,
   "id": "554b1f43-11f5-48b1-a4ff-579778a1a4f1",
   "metadata": {},
   "outputs": [
    {
     "name": "stdout",
     "output_type": "stream",
     "text": [
      "[[ 1  6 11 16]\n",
      " [ 2  7 12 17]\n",
      " [ 3  8 13 18]\n",
      " [ 4  9 14 19]\n",
      " [ 5 10 15 20]]\n",
      "[[ 1  6 11 16]\n",
      " [ 2  7 12 17]\n",
      " [ 3  8 13 18]\n",
      " [ 4  9 14 19]\n",
      " [ 5 10 15 20]]\n"
     ]
    }
   ],
   "source": [
    "# transposing or swapping of the axis\n",
    "print(a.transpose()) # swaps the rows and columns\n",
    "print(a.T) # transpose can be accessed with the T"
   ]
  },
  {
   "cell_type": "code",
   "execution_count": 105,
   "id": "e0ae3836-245c-4cea-b30e-bb8a677593e5",
   "metadata": {},
   "outputs": [
    {
     "name": "stdout",
     "output_type": "stream",
     "text": [
      "[[ 1  6 11 16]\n",
      " [ 2  7 12 17]\n",
      " [ 3  8 13 18]\n",
      " [ 4  9 14 19]\n",
      " [ 5 10 15 20]]\n"
     ]
    }
   ],
   "source": [
    "# swapaxes is similar to transpose\n",
    "# in case, we have multiple axes, we can specify the axes we need t swap\n",
    "# whereas, transpose method transposes the entire array\n",
    "print(a.swapaxes(0,1))"
   ]
  },
  {
   "cell_type": "markdown",
   "id": "dba99292-081c-47c4-8476-cdcf87822a4a",
   "metadata": {},
   "source": [
    "##### Joining and Splitting arrays"
   ]
  },
  {
   "cell_type": "code",
   "execution_count": 111,
   "id": "63e5685a-d291-44b5-ad20-dadad5967a6d",
   "metadata": {},
   "outputs": [
    {
     "name": "stdout",
     "output_type": "stream",
     "text": [
      "[[ 1  2  3  4  5]\n",
      " [ 6  7  8  9 10]\n",
      " [11 12 13 14 15]\n",
      " [16 17 18 19 20]]\n"
     ]
    }
   ],
   "source": [
    "a1 = np.array([[1, 2, 3, 4, 5],\n",
    "              [6, 7, 8, 9, 10]])\n",
    "a2 = np.array([[11, 12, 13, 14, 15],\n",
    "              [16, 17, 18, 19, 20]])\n",
    "\n",
    "a = np.concatenate((a1, a2), axis = 0)\n",
    "print(a)"
   ]
  },
  {
   "cell_type": "code",
   "execution_count": 113,
   "id": "ecb281a3-2129-49d2-9655-80e6f273e1ed",
   "metadata": {},
   "outputs": [
    {
     "name": "stdout",
     "output_type": "stream",
     "text": [
      "[[ 1  2  3  4  5 11 12 13 14 15]\n",
      " [ 6  7  8  9 10 16 17 18 19 20]]\n"
     ]
    }
   ],
   "source": [
    "a1 = np.array([[1, 2, 3, 4, 5],\n",
    "              [6, 7, 8, 9, 10]])\n",
    "a2 = np.array([[11, 12, 13, 14, 15],\n",
    "              [16, 17, 18, 19, 20]])\n",
    "\n",
    "a = np.concatenate((a1, a2), axis = 1)\n",
    "print(a)"
   ]
  },
  {
   "cell_type": "code",
   "execution_count": 117,
   "id": "76f6e83a-5dc0-47aa-a27e-35dd56c71f50",
   "metadata": {},
   "outputs": [
    {
     "name": "stdout",
     "output_type": "stream",
     "text": [
      "[[[ 1  2  3  4  5]\n",
      "  [ 6  7  8  9 10]]\n",
      "\n",
      " [[11 12 13 14 15]\n",
      "  [16 17 18 19 20]]]\n"
     ]
    }
   ],
   "source": [
    "a1 = np.array([[1, 2, 3, 4, 5],\n",
    "              [6, 7, 8, 9, 10]])\n",
    "a2 = np.array([[11, 12, 13, 14, 15],\n",
    "              [16, 17, 18, 19, 20]])\n",
    "\n",
    "a = np.stack((a1, a2)) # two arrays would be stacked together\n",
    "print(a)"
   ]
  },
  {
   "cell_type": "code",
   "execution_count": 119,
   "id": "f788c671-e15c-44b0-a227-e0c22d85a181",
   "metadata": {},
   "outputs": [
    {
     "name": "stdout",
     "output_type": "stream",
     "text": [
      "[[ 1  2  3  4  5]\n",
      " [ 6  7  8  9 10]\n",
      " [11 12 13 14 15]\n",
      " [16 17 18 19 20]]\n"
     ]
    }
   ],
   "source": [
    "a1 = np.array([[1, 2, 3, 4, 5],\n",
    "              [6, 7, 8, 9, 10]])\n",
    "a2 = np.array([[11, 12, 13, 14, 15],\n",
    "              [16, 17, 18, 19, 20]])\n",
    "\n",
    "a = np.vstack((a1, a2)) # vstack same as concatenate over rows\n",
    "print(a)"
   ]
  },
  {
   "cell_type": "code",
   "execution_count": 121,
   "id": "b420e95d-9e53-4d88-bf85-a1c06dca122e",
   "metadata": {},
   "outputs": [
    {
     "name": "stdout",
     "output_type": "stream",
     "text": [
      "[[ 1  2  3  4  5 11 12 13 14 15]\n",
      " [ 6  7  8  9 10 16 17 18 19 20]]\n"
     ]
    }
   ],
   "source": [
    "a1 = np.array([[1, 2, 3, 4, 5],\n",
    "              [6, 7, 8, 9, 10]])\n",
    "a2 = np.array([[11, 12, 13, 14, 15],\n",
    "              [16, 17, 18, 19, 20]])\n",
    "\n",
    "a = np.hstack((a1, a2)) # hstack same as concatenate over columns\n",
    "print(a)"
   ]
  },
  {
   "cell_type": "code",
   "execution_count": 129,
   "id": "c6042811-2d1a-4780-a634-3a06c2cff0a6",
   "metadata": {},
   "outputs": [
    {
     "name": "stdout",
     "output_type": "stream",
     "text": [
      "[array([[ 1,  2,  3,  4,  5,  6],\n",
      "       [ 7,  8,  9, 10, 11, 12]]), array([[13, 14, 15, 16, 17, 18],\n",
      "       [19, 20, 21, 22, 23, 24]])]\n",
      "[array([[1, 2, 3, 4, 5, 6]]), array([[ 7,  8,  9, 10, 11, 12]]), array([[13, 14, 15, 16, 17, 18]]), array([[19, 20, 21, 22, 23, 24]])]\n",
      "[array([[ 1,  2,  3],\n",
      "       [ 7,  8,  9],\n",
      "       [13, 14, 15],\n",
      "       [19, 20, 21]]), array([[ 4,  5,  6],\n",
      "       [10, 11, 12],\n",
      "       [16, 17, 18],\n",
      "       [22, 23, 24]])]\n",
      "[array([[ 1,  2],\n",
      "       [ 7,  8],\n",
      "       [13, 14],\n",
      "       [19, 20]]), array([[ 3,  4],\n",
      "       [ 9, 10],\n",
      "       [15, 16],\n",
      "       [21, 22]]), array([[ 5,  6],\n",
      "       [11, 12],\n",
      "       [17, 18],\n",
      "       [23, 24]])]\n",
      "[array([[ 1],\n",
      "       [ 7],\n",
      "       [13],\n",
      "       [19]]), array([[ 2],\n",
      "       [ 8],\n",
      "       [14],\n",
      "       [20]]), array([[ 3],\n",
      "       [ 9],\n",
      "       [15],\n",
      "       [21]]), array([[ 4],\n",
      "       [10],\n",
      "       [16],\n",
      "       [22]]), array([[ 5],\n",
      "       [11],\n",
      "       [17],\n",
      "       [23]]), array([[ 6],\n",
      "       [12],\n",
      "       [18],\n",
      "       [24]])]\n"
     ]
    }
   ],
   "source": [
    "a = np.array([[1, 2, 3, 4, 5, 6],\n",
    "             [7, 8, 9, 10, 11, 12],\n",
    "             [13, 14, 15, 16, 17, 18],\n",
    "             [19, 20, 21, 22, 23, 24]])\n",
    "\n",
    "print(np.split(a, 2, axis = 0))\n",
    "print(np.split(a, 4, axis = 0))\n",
    "print(np.split(a, 2, axis = 1))\n",
    "print(np.split(a, 3, axis = 1))\n",
    "print(np.split(a, 6, axis = 1))"
   ]
  },
  {
   "cell_type": "markdown",
   "id": "6eaac88f-0462-4afc-a86f-59ca0d1832a6",
   "metadata": {},
   "source": [
    "##### Aggregate functions"
   ]
  },
  {
   "cell_type": "code",
   "execution_count": 133,
   "id": "36cc6f35-845d-4dea-8cc7-6ac133cea510",
   "metadata": {},
   "outputs": [
    {
     "name": "stdout",
     "output_type": "stream",
     "text": [
      "1\n",
      "24\n",
      "12.5\n",
      "6.922186552431729\n",
      "300\n",
      "12.5\n"
     ]
    }
   ],
   "source": [
    "a = np.array([[1, 2, 3, 4, 5, 6],\n",
    "             [7, 8, 9, 10, 11, 12],\n",
    "             [13, 14, 15, 16, 17, 18],\n",
    "             [19, 20, 21, 22, 23, 24]])\n",
    "print(a.min())\n",
    "print(a.max())\n",
    "print(a.mean())\n",
    "print(a.std())\n",
    "print(a.sum())\n",
    "print(np.median(a))"
   ]
  },
  {
   "cell_type": "markdown",
   "id": "9257aefc-b6d9-4d88-9ab3-a17425764341",
   "metadata": {},
   "source": [
    "##### Numpy random"
   ]
  },
  {
   "cell_type": "code",
   "execution_count": 142,
   "id": "f4be0725-b6fc-4270-86e8-9ddd6339623d",
   "metadata": {},
   "outputs": [
    {
     "name": "stdout",
     "output_type": "stream",
     "text": [
      "20\n"
     ]
    }
   ],
   "source": [
    "number = np.random.randint(100) # print a random integer less than 100\n",
    "print(number)"
   ]
  },
  {
   "cell_type": "code",
   "execution_count": 146,
   "id": "a758433f-0c8d-43e7-8521-bab85984afc9",
   "metadata": {},
   "outputs": [
    {
     "name": "stdout",
     "output_type": "stream",
     "text": [
      "[[[0 0 0 0]\n",
      "  [0 0 0 0]\n",
      "  [0 0 0 0]]\n",
      "\n",
      " [[0 0 0 0]\n",
      "  [0 0 0 0]\n",
      "  [0 0 0 0]]]\n"
     ]
    }
   ],
   "source": [
    "numbers = np.random.randint(1, size = (2, 3, 4))\n",
    "# print an array with given dimensions with 0\n",
    "print(numbers)"
   ]
  },
  {
   "cell_type": "code",
   "execution_count": 148,
   "id": "bf1e183b-8d58-4f59-a632-ef7ce7329ebc",
   "metadata": {},
   "outputs": [
    {
     "name": "stdout",
     "output_type": "stream",
     "text": [
      "[[[96 91 92 93]\n",
      "  [92 91 99 92]\n",
      "  [92 97 98 92]]\n",
      "\n",
      " [[94 94 99 94]\n",
      "  [97 96 99 91]\n",
      "  [94 91 98 91]]]\n"
     ]
    }
   ],
   "source": [
    "numbers = np.random.randint(90, 100, size = (2, 3, 4))\n",
    "# print an array with the given dimensions with the numbers between given range\n",
    "print(numbers)"
   ]
  },
  {
   "cell_type": "code",
   "execution_count": 150,
   "id": "6ebdcf3b-e7b0-48a8-ae5a-3bd4e4a28007",
   "metadata": {},
   "outputs": [
    {
     "name": "stdout",
     "output_type": "stream",
     "text": [
      "[[4 6 4 5 5 6 5 4 5 5]\n",
      " [7 6 4 8 6 5 5 8 4 2]\n",
      " [6 4 5 7 5 5 6 7 2 3]\n",
      " [6 5 6 5 4 6 4 4 6 5]\n",
      " [3 3 8 6 4 5 6 7 5 3]]\n"
     ]
    }
   ],
   "source": [
    "numbers = np.random.binomial(10, p = 0.5, size = (5, 10))\n",
    "# printing using the binomial distribution\n",
    "print(numbers)"
   ]
  },
  {
   "cell_type": "code",
   "execution_count": 152,
   "id": "55e62598-95fc-4f11-9884-2be94bd7b940",
   "metadata": {},
   "outputs": [
    {
     "name": "stdout",
     "output_type": "stream",
     "text": [
      "[[154.76505116 194.60150236 175.22382976 147.84566685 179.86196809\n",
      "  150.49282938 146.57916177 164.8417922  181.90399489 163.98181627]\n",
      " [165.25286061 168.67031529 155.0901545  189.10084265 175.77330194\n",
      "  149.67299257 171.42274971 155.34438406 190.06092138 160.81286873]\n",
      " [148.226924   174.66709265 191.52867912 155.62983559 157.70964842\n",
      "  187.30449066 159.28764686 213.13424024 174.67751913 177.70672149]\n",
      " [149.74537718 197.6683254  181.32609799 192.70864245 148.70794594\n",
      "  145.44549739 182.37910663 160.47916356 163.18286915 167.56240368]\n",
      " [192.30128732 178.54382581 169.82188961 167.94513885 160.77323509\n",
      "  160.99239826 176.42074655 165.53889855 157.17778954 157.91934758]]\n"
     ]
    }
   ],
   "source": [
    "numbers = np.random.normal(loc = 170, scale = 15, size = (5, 10))\n",
    "print(numbers)\n",
    "# here loc and scale are mean, and std of the distribution"
   ]
  },
  {
   "cell_type": "code",
   "execution_count": 154,
   "id": "935170da-b241-40b6-bf8f-ce6f188d5657",
   "metadata": {},
   "outputs": [
    {
     "name": "stdout",
     "output_type": "stream",
     "text": [
      "[[20 50 10 20 20 50 10 10 10 30]\n",
      " [30 20 30 30 30 30 50 50 20 20]\n",
      " [20 20 20 30 30 50 10 40 10 30]\n",
      " [30 50 30 10 40 30 20 20 40 30]\n",
      " [40 30 50 40 10 20 50 30 50 40]]\n"
     ]
    }
   ],
   "source": [
    "numbers = np.random.choice([10, 20, 30, 40, 50], size = (5, 10))\n",
    "print(numbers)\n",
    "# this is to generate the array with the given list of numbers"
   ]
  },
  {
   "cell_type": "code",
   "execution_count": 160,
   "id": "a755f4f0-3bae-4e5f-9f40-3fbb81c114a7",
   "metadata": {},
   "outputs": [],
   "source": [
    "a = np.array([[1, 2, 3, 4, 5, 6],\n",
    "             [7, 8, 9, 10, 11, 12],\n",
    "             [13, 14, 15, 16, 17, 18],\n",
    "             [19, 20, 21, 22, 23, 24]])\n",
    "np.save('myarray.npy', a) # to export the array"
   ]
  },
  {
   "cell_type": "code",
   "execution_count": 162,
   "id": "90d9d8d4-7760-4cf1-8639-872af2047f9c",
   "metadata": {},
   "outputs": [
    {
     "name": "stdout",
     "output_type": "stream",
     "text": [
      "[[ 1  2  3  4  5  6]\n",
      " [ 7  8  9 10 11 12]\n",
      " [13 14 15 16 17 18]\n",
      " [19 20 21 22 23 24]]\n"
     ]
    }
   ],
   "source": [
    "a = np.load(\"myarray.npy\") # to load the saved array\n",
    "print(a)"
   ]
  },
  {
   "cell_type": "code",
   "execution_count": 164,
   "id": "006e480c-1487-4d17-aa70-4f01d5e7861c",
   "metadata": {},
   "outputs": [],
   "source": [
    "a = np.array([[1, 2, 3, 4, 5, 6],\n",
    "             [7, 8, 9, 10, 11, 12],\n",
    "             [13, 14, 15, 16, 17, 18],\n",
    "             [19, 20, 21, 22, 23, 24]])\n",
    "np.savetxt('myarray.csv', a, delimiter = ',') # to export the array as a csv file"
   ]
  },
  {
   "cell_type": "code",
   "execution_count": 166,
   "id": "864bf364-76e4-45a9-9fe1-bcdd2a51b062",
   "metadata": {},
   "outputs": [
    {
     "name": "stdout",
     "output_type": "stream",
     "text": [
      "[[ 1.  2.  3.  4.  5.  6.]\n",
      " [ 7.  8.  9. 10. 11. 12.]\n",
      " [13. 14. 15. 16. 17. 18.]\n",
      " [19. 20. 21. 22. 23. 24.]]\n"
     ]
    }
   ],
   "source": [
    "a = np.loadtxt(\"myarray.csv\", delimiter = ',') # to load the saved csv file as an array\n",
    "print(a)\n",
    "# these import and export can also be used for datasets"
   ]
  }
 ],
 "metadata": {
  "kernelspec": {
   "display_name": "Python [conda env:base] *",
   "language": "python",
   "name": "conda-base-py"
  },
  "language_info": {
   "codemirror_mode": {
    "name": "ipython",
    "version": 3
   },
   "file_extension": ".py",
   "mimetype": "text/x-python",
   "name": "python",
   "nbconvert_exporter": "python",
   "pygments_lexer": "ipython3",
   "version": "3.12.7"
  }
 },
 "nbformat": 4,
 "nbformat_minor": 5
}
